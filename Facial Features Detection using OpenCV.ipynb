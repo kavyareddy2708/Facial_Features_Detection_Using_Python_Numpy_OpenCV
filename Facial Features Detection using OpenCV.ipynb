{
 "cells": [
  {
   "cell_type": "code",
   "execution_count": 1,
   "metadata": {},
   "outputs": [
    {
     "name": "stdout",
     "output_type": "stream",
     "text": [
      "c:\\faces\n"
     ]
    }
   ],
   "source": [
    "cd c:\\faces"
   ]
  },
  {
   "cell_type": "code",
   "execution_count": 2,
   "metadata": {},
   "outputs": [],
   "source": [
    "   \n",
    "import numpy as np\n",
    "import cv2\n",
    "\n",
    "# multiple cascades: https://github.com/Itseez/opencv/tree/master/data/haarcascades\n",
    "\n",
    "#https://github.com/Itseez/opencv/blob/master/data/haarcascades/haarcascade_frontalface_default.xml\n",
    "face_cascade = cv2.CascadeClassifier('haarcascade_frontalface_default.xml')\n",
    "#https://github.com/Itseez/opencv/blob/master/data/haarcascades/haarcascade_eye.xml\n",
    "eye_cascade = cv2.CascadeClassifier('haarcascade_eye.xml')\n",
    "\n",
    "smiles_cascade = cv2.CascadeClassifier('haarcascade_smile.xml')\n",
    "\n",
    "cap = cv2.VideoCapture(0)\n",
    "while 1:\n",
    "    ret, img = cap.read()\n",
    "    face_pic = img.copy()\n",
    "    eye_pic = img.copy()\n",
    "    smile_pic = img.copy()\n",
    "    gray = cv2.cvtColor(img, cv2.COLOR_BGR2GRAY)\n",
    "    faces = face_cascade.detectMultiScale(gray, 1.3, 5)\n",
    "    for (x,y,w,h) in faces:\n",
    "        cv2.rectangle(face_pic,(x,y),(x+w,y+h),(255,255,255),2)\n",
    "        roi_gray = gray[y:y+h, x:x+w]\n",
    "        roi_color = img[y:y+h, x:x+w]\n",
    "        \n",
    "        cv2.putText(face_pic,'Face Detected!',(x,y-25), cv2.FONT_HERSHEY_SIMPLEX,.8,(255,255,255),2)\n",
    "        \n",
    "        smile = smiles_cascade.detectMultiScale(roi_gray,3.5, 10, flags=cv2.CASCADE_SCALE_IMAGE)\n",
    "        eyes = eye_cascade.detectMultiScale(roi_gray)\n",
    "        for (ex,ey,ew,eh) in eyes:\n",
    "            #cv2.rectangle(roi_color,(ex,ey),(ex+ew,ey+eh),(0,255,0),2)\n",
    "            cv2.rectangle(eye_pic,(x+ex,y+ey),(x+ex+ew,y+ey+eh),(0,255,0),2)\n",
    "        cv2.putText(eye_pic,'Eyes Detected!',(x,y+30), cv2.FONT_HERSHEY_SIMPLEX,.8,(0,255,0),2)\n",
    "\n",
    "        for (sx,sy,sw,sh) in smile:\n",
    "            #cv2.rectangle(roi_color,(sx,sy),(sx+sw,sy+sh),(0,255,255),2)\n",
    "            cv2.rectangle(smile_pic,(x+sx,y+sy),(x+sx+sw,y+sy+sh),(0,255,255),2)\n",
    "            cv2.putText(smile_pic,'Smile Detected!',(x-10,y+sy+sh+40),cv2.FONT_HERSHEY_SIMPLEX,.8,(0,255,255),2)\n",
    "\n",
    "    cv2.imshow('Original Image',img)\n",
    "    #cv2.imshow('Image Converted to Gray Scale for Processing',gray)\n",
    "    cv2.imshow('Face Detection Window',face_pic)\n",
    "    cv2.imshow('Eyes Detection Window',eye_pic)\n",
    "    cv2.imshow('Real Smile Detection Window',smile_pic)\n",
    "    k = cv2.waitKey(30) & 0xff\n",
    "    if k == 27:\n",
    "        break\n",
    "\n",
    "cap.release()\n",
    "cv2.destroyAllWindows()            "
   ]
  },
  {
   "cell_type": "code",
   "execution_count": null,
   "metadata": {},
   "outputs": [],
   "source": [
    "#Combining all FEATURES in a single window next to original video for comparison    \n",
    "import numpy as np\n",
    "import cv2\n",
    "\n",
    "face_cascade = cv2.CascadeClassifier('haarcascade_frontalface_default.xml')\n",
    "eye_cascade = cv2.CascadeClassifier('haarcascade_eye.xml')\n",
    "smiles_cascade = cv2.CascadeClassifier('haarcascade_smile.xml')\n",
    "\n",
    "cap = cv2.VideoCapture(0)\n",
    "while 1:\n",
    "    ret, img = cap.read()\n",
    "    face_pic = img.copy()\n",
    "    eye_pic = img.copy()\n",
    "    smile_pic = img.copy()\n",
    "    gray = cv2.cvtColor(img, cv2.COLOR_BGR2GRAY)\n",
    "    faces = face_cascade.detectMultiScale(gray, 1.3, 5)\n",
    "    for (x,y,w,h) in faces:\n",
    "        cv2.rectangle(face_pic,(x,y),(x+w,y+h),(255,255,255),2)\n",
    "        roi_gray = gray[y:y+h, x:x+w]\n",
    "        roi_color = img[y:y+h, x:x+w]\n",
    "        \n",
    "        cv2.putText(face_pic,'Face Detected!',(x,y-25), cv2.FONT_HERSHEY_COMPLEX_SMALL,.8,(255,255,255),1)\n",
    "        \n",
    "        smile = smiles_cascade.detectMultiScale(roi_gray,3.5, 10, flags=cv2.CASCADE_SCALE_IMAGE)\n",
    "        eyes = eye_cascade.detectMultiScale(roi_gray)\n",
    "        for (ex,ey,ew,eh) in eyes:\n",
    "            cv2.rectangle(face_pic,(x+ex,y+ey),(x+ex+ew,y+ey+eh),(0,255,0),2)\n",
    "        cv2.putText(face_pic,'Eyes Detected!',(x,y+30), cv2.FONT_HERSHEY_COMPLEX_SMALL,.8,(0,255,0),1)\n",
    "\n",
    "        for (sx,sy,sw,sh) in smile:\n",
    "            cv2.rectangle(face_pic,(x+sx,y+sy),(x+sx+sw,y+sy+sh),(0,255,255),2)\n",
    "            cv2.putText(face_pic,'Smile Detected!',(x-10,y+sy+sh+40),cv2.FONT_HERSHEY_COMPLEX_SMALL,.8,(0,255,255),1)\n",
    "\n",
    "    cv2.imshow('Original Image',img)\n",
    "    cv2.imshow('Face Detection Window',face_pic)\n",
    "    k = cv2.waitKey(30) & 0xff\n",
    "    if k == 27:\n",
    "        break\n",
    "\n",
    "cap.release()\n",
    "cv2.destroyAllWindows()            "
   ]
  }
 ],
 "metadata": {
  "kernelspec": {
   "display_name": "Python 3",
   "language": "python",
   "name": "python3"
  },
  "language_info": {
   "codemirror_mode": {
    "name": "ipython",
    "version": 3
   },
   "file_extension": ".py",
   "mimetype": "text/x-python",
   "name": "python",
   "nbconvert_exporter": "python",
   "pygments_lexer": "ipython3",
   "version": "3.6.5"
  }
 },
 "nbformat": 4,
 "nbformat_minor": 2
}
